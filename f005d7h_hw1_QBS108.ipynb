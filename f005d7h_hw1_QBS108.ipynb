{
  "nbformat": 4,
  "nbformat_minor": 0,
  "metadata": {
    "colab": {
      "name": "f005d7h_hw1_QBS108.ipynb",
      "provenance": []
    },
    "kernelspec": {
      "name": "python3",
      "display_name": "Python 3"
    },
    "language_info": {
      "name": "python"
    }
  },
  "cells": [
    {
      "cell_type": "code",
      "execution_count": 42,
      "metadata": {
        "id": "8VC4UKUt_LBK"
      },
      "outputs": [],
      "source": [
        "import numpy as np\n",
        "import pandas as pd\n",
        "import matplotlib.pyplot as plt\n",
        "from sklearn.linear_model import LogisticRegression\n",
        "from sklearn import metrics\n",
        "from google.colab import files"
      ]
    },
    {
      "cell_type": "markdown",
      "source": [
        "Matthew Chan"
      ],
      "metadata": {
        "id": "rjyMb5kXLDro"
      }
    },
    {
      "cell_type": "markdown",
      "source": [
        "Question 1 \n",
        "Write a loss function that can be used for each of the models below. Please write down the\n",
        "formulas. No coding is needed. \n",
        "\n",
        "L1 Regularized Linear Regression Loss Function is Mean Squared Error\n",
        "\n",
        "$$MSE(y,\\hat{y}) = \\frac{1}{n} \\sum_{i=1}^{n} (y-\\hat{y_{i}})^{2} + \\lambda||\\theta||$$\n",
        "https://peltarion.com/knowledge-center/documentation/modeling-view/build-an-ai-model/loss-functions/mean-squared-error"
      ],
      "metadata": {
        "id": "-ZeOdwUGA67S"
      }
    },
    {
      "cell_type": "markdown",
      "source": [
        "\n",
        "\n",
        "L2 Logistic Regression Equation Loss Function is cross entropy"
      ],
      "metadata": {
        "id": "UHB_Vp78JOE8"
      }
    },
    {
      "cell_type": "markdown",
      "source": [
        "$$L_{log}(y, p) = -(ylog(p) + (1-y)log(1-p)) + \\lambda \\sum_{i=1}^{n}\\theta^{2}$$\n",
        "\n",
        "https://blmoistawinde.github.io/ml_equations_latex/"
      ],
      "metadata": {
        "id": "SCU1nquXJx3T"
      }
    },
    {
      "cell_type": "markdown",
      "source": [
        "Question 2"
      ],
      "metadata": {
        "id": "zyYaRp04CbHl"
      }
    },
    {
      "cell_type": "markdown",
      "source": [
        "I used **Logistic regression model L1** with a high\n",
        "lambda. L1 regression model with high lambda is well suited for feature extractions in a large dataset where it sets the weights of non relevant features to 0. As a result , it will end up with a small collection of features which is effective for machine learning such as prediction and classification. "
      ],
      "metadata": {
        "id": "SufZR8AlDmFN"
      }
    },
    {
      "cell_type": "markdown",
      "source": [
        "Question 3 "
      ],
      "metadata": {
        "id": "PTN7eC-PFyxe"
      }
    },
    {
      "cell_type": "code",
      "source": [
        "#uploaded = files.upload()\n",
        "\n",
        "train_data = pd.read_csv(\"train_diabetes.csv\", index_col = 0)\n",
        "#data = pd.read_csv(io.BytesIO(uploaded['train_diabetes.csv']))\n",
        "\n",
        "Y_train = train_data.drop(\"Pregnancies\", axis = 1)\n",
        "Y_train = Y_train . drop(\"Glucose\", axis = 1)\n",
        "Y_train = Y_train . drop(\"BloodPressure\", axis = 1)\n",
        "Y_train = Y_train . drop(\"SkinThickness\", axis = 1)\n",
        "Y_train = Y_train . drop(\"Insulin\", axis = 1)\n",
        "Y_train = Y_train . drop(\"BMI\", axis = 1)\n",
        "Y_train = Y_train . drop(\"DiabetesPedigreeFunction\", axis = 1)\n",
        "Y_train = Y_train . drop(\"Age\", axis = 1)\n",
        "Y_train.head()\n",
        "X_train = train_data.drop(\"Outcome\", axis=1)\n",
        "X_train.head()\n",
        "\n",
        "validation_data = pd.read_csv(\"val_diabetes.csv\", index_col=0)\n",
        " \n",
        "Y_val = validation_data.drop(\"Pregnancies\", axis = 1)\n",
        "Y_val = Y_val. drop(\"Glucose\", axis = 1)\n",
        "Y_val = Y_val. drop(\"BloodPressure\", axis = 1)\n",
        "Y_val = Y_val. drop(\"SkinThickness\", axis = 1)\n",
        "Y_val = Y_val. drop(\"Insulin\", axis = 1)\n",
        "Y_val = Y_val. drop(\"BMI\", axis = 1)\n",
        "Y_val = Y_val. drop(\"DiabetesPedigreeFunction\", axis = 1)\n",
        "Y_val = Y_val. drop(\"Age\", axis = 1)\n",
        "Y_val.head()\n",
        " \n",
        "X_val= validation_data.drop(\"Outcome\", axis=1)\n",
        "X_val.head() \n",
        " \n",
        "test_data = pd.read_csv(\"test_diabetes.csv\", index_col=0)\n",
        " \n",
        "Y_test = test_data.drop(\"Pregnancies\", axis = 1)\n",
        "Y_test = Y_test. drop(\"Glucose\", axis = 1)\n",
        "Y_test = Y_test. drop(\"BloodPressure\", axis = 1)\n",
        "Y_test = Y_test. drop(\"SkinThickness\", axis = 1)\n",
        "Y_test = Y_test. drop(\"Insulin\", axis = 1)\n",
        "Y_test = Y_test. drop(\"BMI\", axis = 1)\n",
        "Y_test = Y_test. drop(\"DiabetesPedigreeFunction\", axis = 1)\n",
        "Y_test = Y_test. drop(\"Age\", axis = 1)\n",
        "\n",
        "\n",
        "X_test = test_data.drop(\"Outcome\", axis=1)\n",
        "X_test.head()\n",
        "Y_test.head()\n",
        "\n",
        "\n",
        "X_train.head()\n"
      ],
      "metadata": {
        "id": "tuIUaXs4AR73",
        "colab": {
          "base_uri": "https://localhost:8080/",
          "height": 206
        },
        "outputId": "44e4a621-3698-4734-d37e-b4daa42fdb38"
      },
      "execution_count": 43,
      "outputs": [
        {
          "output_type": "execute_result",
          "data": {
            "text/plain": [
              "     Pregnancies  Glucose  BloodPressure  SkinThickness  Insulin   BMI  \\\n",
              "552            6      114             88              0        0  27.8   \n",
              "191            9      123             70             44       94  33.1   \n",
              "406            4      115             72              0        0  28.9   \n",
              "482            4       85             58             22       49  27.8   \n",
              "719            5       97             76             27        0  35.6   \n",
              "\n",
              "     DiabetesPedigreeFunction  Age  \n",
              "552                     0.247   66  \n",
              "191                     0.374   40  \n",
              "406                     0.376   46  \n",
              "482                     0.306   28  \n",
              "719                     0.378   52  "
            ],
            "text/html": [
              "\n",
              "  <div id=\"df-13c54f6d-fba3-4233-b699-6cebafc200ab\">\n",
              "    <div class=\"colab-df-container\">\n",
              "      <div>\n",
              "<style scoped>\n",
              "    .dataframe tbody tr th:only-of-type {\n",
              "        vertical-align: middle;\n",
              "    }\n",
              "\n",
              "    .dataframe tbody tr th {\n",
              "        vertical-align: top;\n",
              "    }\n",
              "\n",
              "    .dataframe thead th {\n",
              "        text-align: right;\n",
              "    }\n",
              "</style>\n",
              "<table border=\"1\" class=\"dataframe\">\n",
              "  <thead>\n",
              "    <tr style=\"text-align: right;\">\n",
              "      <th></th>\n",
              "      <th>Pregnancies</th>\n",
              "      <th>Glucose</th>\n",
              "      <th>BloodPressure</th>\n",
              "      <th>SkinThickness</th>\n",
              "      <th>Insulin</th>\n",
              "      <th>BMI</th>\n",
              "      <th>DiabetesPedigreeFunction</th>\n",
              "      <th>Age</th>\n",
              "    </tr>\n",
              "  </thead>\n",
              "  <tbody>\n",
              "    <tr>\n",
              "      <th>552</th>\n",
              "      <td>6</td>\n",
              "      <td>114</td>\n",
              "      <td>88</td>\n",
              "      <td>0</td>\n",
              "      <td>0</td>\n",
              "      <td>27.8</td>\n",
              "      <td>0.247</td>\n",
              "      <td>66</td>\n",
              "    </tr>\n",
              "    <tr>\n",
              "      <th>191</th>\n",
              "      <td>9</td>\n",
              "      <td>123</td>\n",
              "      <td>70</td>\n",
              "      <td>44</td>\n",
              "      <td>94</td>\n",
              "      <td>33.1</td>\n",
              "      <td>0.374</td>\n",
              "      <td>40</td>\n",
              "    </tr>\n",
              "    <tr>\n",
              "      <th>406</th>\n",
              "      <td>4</td>\n",
              "      <td>115</td>\n",
              "      <td>72</td>\n",
              "      <td>0</td>\n",
              "      <td>0</td>\n",
              "      <td>28.9</td>\n",
              "      <td>0.376</td>\n",
              "      <td>46</td>\n",
              "    </tr>\n",
              "    <tr>\n",
              "      <th>482</th>\n",
              "      <td>4</td>\n",
              "      <td>85</td>\n",
              "      <td>58</td>\n",
              "      <td>22</td>\n",
              "      <td>49</td>\n",
              "      <td>27.8</td>\n",
              "      <td>0.306</td>\n",
              "      <td>28</td>\n",
              "    </tr>\n",
              "    <tr>\n",
              "      <th>719</th>\n",
              "      <td>5</td>\n",
              "      <td>97</td>\n",
              "      <td>76</td>\n",
              "      <td>27</td>\n",
              "      <td>0</td>\n",
              "      <td>35.6</td>\n",
              "      <td>0.378</td>\n",
              "      <td>52</td>\n",
              "    </tr>\n",
              "  </tbody>\n",
              "</table>\n",
              "</div>\n",
              "      <button class=\"colab-df-convert\" onclick=\"convertToInteractive('df-13c54f6d-fba3-4233-b699-6cebafc200ab')\"\n",
              "              title=\"Convert this dataframe to an interactive table.\"\n",
              "              style=\"display:none;\">\n",
              "        \n",
              "  <svg xmlns=\"http://www.w3.org/2000/svg\" height=\"24px\"viewBox=\"0 0 24 24\"\n",
              "       width=\"24px\">\n",
              "    <path d=\"M0 0h24v24H0V0z\" fill=\"none\"/>\n",
              "    <path d=\"M18.56 5.44l.94 2.06.94-2.06 2.06-.94-2.06-.94-.94-2.06-.94 2.06-2.06.94zm-11 1L8.5 8.5l.94-2.06 2.06-.94-2.06-.94L8.5 2.5l-.94 2.06-2.06.94zm10 10l.94 2.06.94-2.06 2.06-.94-2.06-.94-.94-2.06-.94 2.06-2.06.94z\"/><path d=\"M17.41 7.96l-1.37-1.37c-.4-.4-.92-.59-1.43-.59-.52 0-1.04.2-1.43.59L10.3 9.45l-7.72 7.72c-.78.78-.78 2.05 0 2.83L4 21.41c.39.39.9.59 1.41.59.51 0 1.02-.2 1.41-.59l7.78-7.78 2.81-2.81c.8-.78.8-2.07 0-2.86zM5.41 20L4 18.59l7.72-7.72 1.47 1.35L5.41 20z\"/>\n",
              "  </svg>\n",
              "      </button>\n",
              "      \n",
              "  <style>\n",
              "    .colab-df-container {\n",
              "      display:flex;\n",
              "      flex-wrap:wrap;\n",
              "      gap: 12px;\n",
              "    }\n",
              "\n",
              "    .colab-df-convert {\n",
              "      background-color: #E8F0FE;\n",
              "      border: none;\n",
              "      border-radius: 50%;\n",
              "      cursor: pointer;\n",
              "      display: none;\n",
              "      fill: #1967D2;\n",
              "      height: 32px;\n",
              "      padding: 0 0 0 0;\n",
              "      width: 32px;\n",
              "    }\n",
              "\n",
              "    .colab-df-convert:hover {\n",
              "      background-color: #E2EBFA;\n",
              "      box-shadow: 0px 1px 2px rgba(60, 64, 67, 0.3), 0px 1px 3px 1px rgba(60, 64, 67, 0.15);\n",
              "      fill: #174EA6;\n",
              "    }\n",
              "\n",
              "    [theme=dark] .colab-df-convert {\n",
              "      background-color: #3B4455;\n",
              "      fill: #D2E3FC;\n",
              "    }\n",
              "\n",
              "    [theme=dark] .colab-df-convert:hover {\n",
              "      background-color: #434B5C;\n",
              "      box-shadow: 0px 1px 3px 1px rgba(0, 0, 0, 0.15);\n",
              "      filter: drop-shadow(0px 1px 2px rgba(0, 0, 0, 0.3));\n",
              "      fill: #FFFFFF;\n",
              "    }\n",
              "  </style>\n",
              "\n",
              "      <script>\n",
              "        const buttonEl =\n",
              "          document.querySelector('#df-13c54f6d-fba3-4233-b699-6cebafc200ab button.colab-df-convert');\n",
              "        buttonEl.style.display =\n",
              "          google.colab.kernel.accessAllowed ? 'block' : 'none';\n",
              "\n",
              "        async function convertToInteractive(key) {\n",
              "          const element = document.querySelector('#df-13c54f6d-fba3-4233-b699-6cebafc200ab');\n",
              "          const dataTable =\n",
              "            await google.colab.kernel.invokeFunction('convertToInteractive',\n",
              "                                                     [key], {});\n",
              "          if (!dataTable) return;\n",
              "\n",
              "          const docLinkHtml = 'Like what you see? Visit the ' +\n",
              "            '<a target=\"_blank\" href=https://colab.research.google.com/notebooks/data_table.ipynb>data table notebook</a>'\n",
              "            + ' to learn more about interactive tables.';\n",
              "          element.innerHTML = '';\n",
              "          dataTable['output_type'] = 'display_data';\n",
              "          await google.colab.output.renderOutput(dataTable, element);\n",
              "          const docLink = document.createElement('div');\n",
              "          docLink.innerHTML = docLinkHtml;\n",
              "          element.appendChild(docLink);\n",
              "        }\n",
              "      </script>\n",
              "    </div>\n",
              "  </div>\n",
              "  "
            ]
          },
          "metadata": {},
          "execution_count": 43
        }
      ]
    },
    {
      "cell_type": "markdown",
      "source": [
        "The dataset contains 8 columns that are useful for analysis: Pregnancies, Glucose, BloodPressure, SkinThickness, Insulin, BMI , DiabetesBedigreeFunction, and Age. The id column is dropped because it is not useful. All the 8 features that I selected as part of the metrics are highly related or risk factors to diabetes. As stated, this is a binary classification problem with a goal to predict whether an individual has diabetes indicated by Outcome variable based on the rest of the features. It is a binary classification problem, therefore the appropriate Model evaluation metrics are confusion matrix, accuracy, and F1 score."
      ],
      "metadata": {
        "id": "VlTWKSRhsyJi"
      }
    },
    {
      "cell_type": "markdown",
      "source": [
        "Question 4 \n",
        "Implement a L2-regularized logistic regression model to train stochastic gradient descent to return the loss from 500 epochs of training (Hint: First try implementing without regularization, then add the regularization terms). (15 pts)"
      ],
      "metadata": {
        "id": "qS8wCsEVxRw4"
      }
    },
    {
      "cell_type": "code",
      "source": [
        "X_train = X_train.values\n",
        "Y_train = Y_train.values\n",
        "X_test = X_test.values\n",
        "Y_test = Y_test.values\n",
        "X_val = X_val.values\n",
        "Y_val = Y_val.values"
      ],
      "metadata": {
        "id": "8X1d1KxaBBh2"
      },
      "execution_count": 44,
      "outputs": []
    },
    {
      "cell_type": "code",
      "source": [
        "X_train = X_train.T\n",
        "Y_train = Y_train.reshape(1, X_train.shape[1])\n",
        "X_test = X_test.T\n",
        "Y_test = Y_test.reshape(1, X_test.shape[1])\n",
        "X_val = X_val.T\n",
        "Y_val = Y_val.reshape(1, X_val.shape[1])"
      ],
      "metadata": {
        "id": "0R956WFjBE52"
      },
      "execution_count": 45,
      "outputs": []
    },
    {
      "cell_type": "code",
      "source": [
        "print(\"Shape of X_train : \", X_train.shape)\n",
        "print(\"Shape of Y_train : \", Y_train.shape)\n",
        "print(\"Shape of X_test : \", X_test.shape)\n",
        "print(\"Shape of Y_test : \", Y_test.shape)\n",
        "print(\"Shape of X_val : \", X_val.shape)\n",
        "print(\"Shape of Y_val : \", Y_val.shape)"
      ],
      "metadata": {
        "colab": {
          "base_uri": "https://localhost:8080/"
        },
        "id": "HPB8FeUcBIuu",
        "outputId": "9f5f5dd4-590e-47ed-945f-ff8560f82431"
      },
      "execution_count": 46,
      "outputs": [
        {
          "output_type": "stream",
          "name": "stdout",
          "text": [
            "Shape of X_train :  (8, 460)\n",
            "Shape of Y_train :  (1, 460)\n",
            "Shape of X_test :  (8, 154)\n",
            "Shape of Y_test :  (1, 154)\n",
            "Shape of X_val :  (8, 154)\n",
            "Shape of Y_val :  (1, 154)\n"
          ]
        }
      ]
    },
    {
      "cell_type": "code",
      "source": [
        "def sigmoid(x):\n",
        "    return 1/(1 + np.exp(-x))"
      ],
      "metadata": {
        "id": "0PhoATIQBMmO"
      },
      "execution_count": 47,
      "outputs": []
    },
    {
      "cell_type": "code",
      "source": [
        "# When Lambda is 0, that means that there is no regularization inolved.\n",
        "\n",
        "def model(X_train, Y_train, X_val, Y_val, learning_rate, lambda_value, iterations):\n",
        "    \n",
        "    # Number of rows\n",
        "    m = X_train.shape[1]\n",
        "    # Number of features\n",
        "    n = X_train.shape[0]\n",
        "\n",
        "    # Number of rows of the validation\n",
        "    m_val = X_val.shape[1]\n",
        "    # Number of features of validation\n",
        "    n_val = X_val.shape[0]\n",
        "    \n",
        "    Weights = np.zeros((n,1))\n",
        "\n",
        "    B = 0\n",
        "    \n",
        "    cost_list = []\n",
        "    #  validation cost to the same model function as the training cost\n",
        "    cost_list_validation = []\n",
        "    \n",
        "    for i in range(iterations):\n",
        "        \n",
        "        Z = np.dot(Weights.T, X_train) + B\n",
        "        sigmoid_value = sigmoid(Z)\n",
        "       \n",
        "        # cost function\n",
        "        cost = -(1/m)*np.sum( Y_train*np.log(sigmoid_value) + (1-Y_train)*np.log(1-sigmoid_value)) + (2*lambda_value/m) *np.sum(np.square(Weights))\n",
        "        \n",
        "        Z_val = np.dot(Weights.T, X_val) + B\n",
        "        sigmoid_value_validation = sigmoid(Z_val)\n",
        "\n",
        "        # This a separate cost function for the validation data \n",
        "        validation_cost = -(1/m_val)*np.sum(Y_val*np.log(sigmoid_value_validation) + (1-Y_val)*np.log(1-sigmoid_value_validation)) + ((2*lambda_value/m_val) *np.sum(np.square(Weights)))\n",
        "       \n",
        "        # Gradient Descent\n",
        "        derivativeW = (1/m)* (np.dot(sigmoid_value -Y_train, X_train.T)) + 2* (lambda_value/ m) * np.sum((Weights))\n",
        "        derivativeB = (1/m)*np.sum(sigmoid_value  - Y_train)\n",
        "        \n",
        "        Weights =  Weights - learning_rate*derivativeW.T\n",
        "        B = B - learning_rate*derivativeB\n",
        "        \n",
        "        # Keeping track of the cost function value\n",
        "        cost_list.append(cost)\n",
        "        cost_list_validation.append(validation_cost)\n",
        "        \n",
        "        if(i%(iterations/10) == 0):\n",
        "            print(\"cost after \", i, \"iteration is : \", cost)\n",
        "            print(\"cost after  validation\", i, \"iteration is : \", validation_cost)\n",
        "        \n",
        "    return Weights, B, cost_list, cost_list_validation\n",
        "        "
      ],
      "metadata": {
        "id": "zA4HCJ27BRtn"
      },
      "execution_count": 48,
      "outputs": []
    },
    {
      "cell_type": "code",
      "source": [
        "# Training for the model\n",
        "\n",
        "iterations = 500\n",
        "learning_rate = 0.0001\n",
        "lambda_value = 0.1\n",
        "W, B, cost_list, cost_list_validation = model(X_train, Y_train, X_val, Y_val, learning_rate = learning_rate, lambda_value = lambda_value, iterations = iterations)\n",
        " "
      ],
      "metadata": {
        "colab": {
          "base_uri": "https://localhost:8080/"
        },
        "id": "JIdhi4Aypdov",
        "outputId": "9a8af951-260a-4741-c4ed-e83e61881523"
      },
      "execution_count": 49,
      "outputs": [
        {
          "output_type": "stream",
          "name": "stdout",
          "text": [
            "cost after  0 iteration is :  0.6931471805599452\n",
            "cost after  validation 0 iteration is :  0.6931471805599454\n",
            "cost after  50 iteration is :  0.630748906369986\n",
            "cost after  validation 50 iteration is :  0.6745076358686274\n",
            "cost after  100 iteration is :  0.6200974052935241\n",
            "cost after  validation 100 iteration is :  0.6676583181337438\n",
            "cost after  150 iteration is :  0.6158117104158204\n",
            "cost after  validation 150 iteration is :  0.66624038393258\n",
            "cost after  200 iteration is :  0.6138237444331437\n",
            "cost after  validation 200 iteration is :  0.6662326127318328\n",
            "cost after  250 iteration is :  0.6127605884046544\n",
            "cost after  validation 250 iteration is :  0.6665042588513203\n",
            "cost after  300 iteration is :  0.6121082325748589\n",
            "cost after  validation 300 iteration is :  0.6667471765702672\n",
            "cost after  350 iteration is :  0.6116568522994239\n",
            "cost after  validation 350 iteration is :  0.6668981791590568\n",
            "cost after  400 iteration is :  0.6113140048288354\n",
            "cost after  validation 400 iteration is :  0.6669640636730191\n",
            "cost after  450 iteration is :  0.6110357456277296\n",
            "cost after  validation 450 iteration is :  0.666966781310493\n"
          ]
        }
      ]
    },
    {
      "cell_type": "code",
      "source": [
        "iterations = 500\n",
        "learning_rate = 0.0001\n",
        "lambda_value = 0.2\n",
        "W, B, cost_list, cost_list_validation = model(X_train, Y_train, X_val, Y_val, learning_rate = learning_rate, lambda_value = lambda_value, iterations = iterations)"
      ],
      "metadata": {
        "colab": {
          "base_uri": "https://localhost:8080/"
        },
        "id": "6t6oV8G5FZjx",
        "outputId": "858132e9-6207-4e18-cd4c-8ebc694467fc"
      },
      "execution_count": 50,
      "outputs": [
        {
          "output_type": "stream",
          "name": "stdout",
          "text": [
            "cost after  0 iteration is :  0.6931471805599452\n",
            "cost after  validation 0 iteration is :  0.6931471805599454\n",
            "cost after  50 iteration is :  0.6307489908113468\n",
            "cost after  validation 50 iteration is :  0.6745078265074211\n",
            "cost after  100 iteration is :  0.6200975822850359\n",
            "cost after  validation 100 iteration is :  0.6676587741138478\n",
            "cost after  150 iteration is :  0.6158119581523004\n",
            "cost after  validation 150 iteration is :  0.6662410601572714\n",
            "cost after  200 iteration is :  0.6138240435260348\n",
            "cost after  validation 200 iteration is :  0.6662334577397185\n",
            "cost after  250 iteration is :  0.6127609256732724\n",
            "cost after  validation 250 iteration is :  0.6665052339718929\n",
            "cost after  300 iteration is :  0.6121085996105403\n",
            "cost after  validation 300 iteration is :  0.6667482553865254\n",
            "cost after  350 iteration is :  0.611657243785092\n",
            "cost after  validation 350 iteration is :  0.6668993440838532\n",
            "cost after  400 iteration is :  0.6113144173498771\n",
            "cost after  validation 400 iteration is :  0.6669653029795171\n",
            "cost after  450 iteration is :  0.6110361769286812\n",
            "cost after  validation 450 iteration is :  0.666968087051029\n"
          ]
        }
      ]
    },
    {
      "cell_type": "code",
      "source": [
        "plt.plot(np.arange(iterations), cost_list)\n",
        "plt.show()"
      ],
      "metadata": {
        "colab": {
          "base_uri": "https://localhost:8080/",
          "height": 265
        },
        "id": "x7bCazso-5rB",
        "outputId": "eb96a3d8-0f51-49ef-d75d-d9b094164264"
      },
      "execution_count": 51,
      "outputs": [
        {
          "output_type": "display_data",
          "data": {
            "text/plain": [
              "<Figure size 432x288 with 1 Axes>"
            ],
            "image/png": "[encoded data removed]"
          },
          "metadata": {
            "needs_background": "light"
          }
        }
      ]
    },
    {
      "cell_type": "code",
      "source": [
        "iterations = 500\n",
        "learning_rate = 0.0001\n",
        "lambda_value = 0.3\n",
        "W, B, cost_list, cost_list_validation = model(X_train, Y_train, X_val, Y_val, learning_rate = learning_rate, lambda_value = lambda_value, iterations = iterations)"
      ],
      "metadata": {
        "colab": {
          "base_uri": "https://localhost:8080/"
        },
        "id": "5Qf3kQhsXwP5",
        "outputId": "411a1a34-15cc-4939-b5fe-b15a923dbb3e"
      },
      "execution_count": 52,
      "outputs": [
        {
          "output_type": "stream",
          "name": "stdout",
          "text": [
            "cost after  0 iteration is :  0.6931471805599452\n",
            "cost after  validation 0 iteration is :  0.6931471805599454\n",
            "cost after  50 iteration is :  0.6307490752524606\n",
            "cost after  validation 50 iteration is :  0.6745080171459067\n",
            "cost after  100 iteration is :  0.6200977592760915\n",
            "cost after  validation 100 iteration is :  0.6676592300935147\n",
            "cost after  150 iteration is :  0.6158122058885889\n",
            "cost after  validation 150 iteration is :  0.6662417363825406\n",
            "cost after  200 iteration is :  0.6138243426195205\n",
            "cost after  validation 200 iteration is :  0.6662343027505053\n",
            "cost after  250 iteration is :  0.6127612629436844\n",
            "cost after  validation 250 iteration is :  0.6665062090987788\n",
            "cost after  300 iteration is :  0.6121089666494882\n",
            "cost after  validation 300 iteration is :  0.6667493342132687\n",
            "cost after  350 iteration is :  0.6116576352756469\n",
            "cost after  validation 350 iteration is :  0.6669005090237483\n",
            "cost after  400 iteration is :  0.6113148298774795\n",
            "cost after  validation 400 iteration is :  0.6669665423059109\n",
            "cost after  450 iteration is :  0.6110366082378585\n",
            "cost after  validation 450 iteration is :  0.6669693928162492\n"
          ]
        }
      ]
    },
    {
      "cell_type": "code",
      "source": [
        "plt.plot(np.arange(iterations), cost_list)\n",
        "plt.show()"
      ],
      "metadata": {
        "colab": {
          "base_uri": "https://localhost:8080/",
          "height": 265
        },
        "id": "GYVeQXubYSTH",
        "outputId": "3772d3b1-ef50-481c-abde-fbf97354d3dd"
      },
      "execution_count": 53,
      "outputs": [
        {
          "output_type": "display_data",
          "data": {
            "text/plain": [
              "<Figure size 432x288 with 1 Axes>"
            ],
            "image/png": "[encoded data removed]"
          },
          "metadata": {
            "needs_background": "light"
          }
        }
      ]
    },
    {
      "cell_type": "code",
      "source": [
        "iterations = 500\n",
        "learning_rate = 0.001\n",
        "lambda_value = 0.9\n",
        "W, B, cost_list, cost_list_validation = model(X_train, Y_train, X_val, Y_val, learning_rate = learning_rate, lambda_value = lambda_value, iterations = iterations)"
      ],
      "metadata": {
        "colab": {
          "base_uri": "https://localhost:8080/"
        },
        "id": "RBacFewTkZu-",
        "outputId": "ea33662f-6157-4902-9fb5-f6e0c26dc3f4"
      },
      "execution_count": 54,
      "outputs": [
        {
          "output_type": "stream",
          "name": "stdout",
          "text": [
            "cost after  0 iteration is :  0.6931471805599452\n",
            "cost after  validation 0 iteration is :  0.6931471805599454\n",
            "cost after  50 iteration is :  1.3198330641999745\n",
            "cost after  validation 50 iteration is :  1.1334680164744118\n",
            "cost after  100 iteration is :  4.2788524727159665\n",
            "cost after  validation 100 iteration is :  5.047154432816166\n",
            "cost after  150 iteration is :  1.3102352943757887\n",
            "cost after  validation 150 iteration is :  1.131348810999784\n",
            "cost after  200 iteration is :  2.7940727366061773\n",
            "cost after  validation 200 iteration is :  2.2902460825916617\n",
            "cost after  250 iteration is :  1.8885944710924993\n",
            "cost after  validation 250 iteration is :  1.5752489912267698\n",
            "cost after  300 iteration is :  2.0026246236984373\n",
            "cost after  validation 300 iteration is :  1.703990173298475\n",
            "cost after  350 iteration is :  0.8839260154684716\n",
            "cost after  validation 350 iteration is :  0.8384024361856289\n",
            "cost after  400 iteration is :  4.1885706418024755\n",
            "cost after  validation 400 iteration is :  4.952010309757076\n",
            "cost after  450 iteration is :  3.2687755475801135\n",
            "cost after  validation 450 iteration is :  2.6926702179721635\n"
          ]
        }
      ]
    },
    {
      "cell_type": "code",
      "source": [
        "plt.plot(np.arange(iterations), cost_list)\n",
        "plt.show()"
      ],
      "metadata": {
        "colab": {
          "base_uri": "https://localhost:8080/",
          "height": 265
        },
        "id": "u_o-6JrfJhvE",
        "outputId": "1a7c2b27-b43d-48eb-af82-7bf2c67ccad9"
      },
      "execution_count": 55,
      "outputs": [
        {
          "output_type": "display_data",
          "data": {
            "text/plain": [
              "<Figure size 432x288 with 1 Axes>"
            ],
            "image/png": "[encoded data removed]"
          },
          "metadata": {
            "needs_background": "light"
          }
        }
      ]
    },
    {
      "cell_type": "code",
      "source": [
        "iterations = 500\n",
        "learning_rate = 0.0001\n",
        "lambda_value = 0.9\n",
        "W, B, cost_list, cost_list_validation = model(X_train, Y_train, X_val, Y_val, learning_rate = learning_rate, lambda_value = lambda_value, iterations = iterations)"
      ],
      "metadata": {
        "colab": {
          "base_uri": "https://localhost:8080/"
        },
        "id": "uTmiW1GIF5LZ",
        "outputId": "5e63ad99-1dc8-4c75-aa2a-fb27d8293847"
      },
      "execution_count": 56,
      "outputs": [
        {
          "output_type": "stream",
          "name": "stdout",
          "text": [
            "cost after  0 iteration is :  0.6931471805599452\n",
            "cost after  validation 0 iteration is :  0.6931471805599454\n",
            "cost after  50 iteration is :  0.6307495818939577\n",
            "cost after  validation 50 iteration is :  0.6745091609703562\n",
            "cost after  100 iteration is :  0.6200988212128398\n",
            "cost after  validation 100 iteration is :  0.6676619659623445\n",
            "cost after  150 iteration is :  0.6158136923022984\n",
            "cost after  validation 150 iteration is :  0.6662457937463057\n",
            "cost after  200 iteration is :  0.6138261371929239\n",
            "cost after  validation 200 iteration is :  0.6662393728761574\n",
            "cost after  250 iteration is :  0.6127632866038375\n",
            "cost after  validation 250 iteration is :  0.6665120599926873\n",
            "cost after  300 iteration is :  0.6121111689517672\n",
            "cost after  validation 300 iteration is :  0.666755807393927\n",
            "cost after  350 iteration is :  0.6116599843215859\n",
            "cost after  validation 350 iteration is :  0.6669074989802017\n",
            "cost after  400 iteration is :  0.6113173051808657\n",
            "cost after  validation 400 iteration is :  0.6669739786820835\n",
            "cost after  450 iteration is :  0.6110391962656475\n",
            "cost after  validation 450 iteration is :  0.6669772279259243\n"
          ]
        }
      ]
    },
    {
      "cell_type": "markdown",
      "source": [
        "Plot the training and validation loss curves. (5 pts)"
      ],
      "metadata": {
        "id": "23C7rrifHeX3"
      }
    },
    {
      "cell_type": "code",
      "source": [
        "\n",
        "plt.plot(cost_list, label='training')\n",
        "plt.plot(cost_list_validation, label='validation')\n",
        "plt.ylim(ymin=0.5,ymax=0.9)\n",
        "plt.legend()"
      ],
      "metadata": {
        "colab": {
          "base_uri": "https://localhost:8080/",
          "height": 286
        },
        "id": "djPB5fmktWyp",
        "outputId": "ed021dc5-6462-4ef1-a1cc-8322e8deda53"
      },
      "execution_count": 57,
      "outputs": [
        {
          "output_type": "execute_result",
          "data": {
            "text/plain": [
              "<matplotlib.legend.Legend at 0x7f0424198c10>"
            ]
          },
          "metadata": {},
          "execution_count": 57
        },
        {
          "output_type": "display_data",
          "data": {
            "text/plain": [
              "<Figure size 432x288 with 1 Axes>"
            ],
            "image/png": "[encoded data removed]"
          },
          "metadata": {
            "needs_background": "light"
          }
        }
      ]
    },
    {
      "cell_type": "markdown",
      "source": [
        "- Indicate which iteration gives the best model, and explain your decision. (5 pts)"
      ],
      "metadata": {
        "id": "mbs0rHhvHN-h"
      }
    },
    {
      "cell_type": "markdown",
      "source": [
        "The difference between the validation and training curves are not that much. As shown above from the training and validation curves stop decreasing at around iteration 50 for both training and validation. At around  50 iterations, the loss function starts to converge, therefore 50 iterations is the best."
      ],
      "metadata": {
        "id": "elSmaHtXoVDG"
      }
    },
    {
      "cell_type": "markdown",
      "source": [
        "List and explain your hyperparameter choices (learning rate, regularization parameter). (5\n",
        "pts)"
      ],
      "metadata": {
        "id": "1fZ0WYXdHWzl"
      }
    },
    {
      "cell_type": "markdown",
      "source": [
        "After testing a couple learning rates and doing some hyperparameter tuning, I noticed that when the learning rate increases past 0.0001, then the cost function starts to blow up. The optimal learning rate is 0.0001 where the cost function converges. Although lambda has very little effect since the weights are very small."
      ],
      "metadata": {
        "id": "HjMwakXXHVW0"
      }
    },
    {
      "cell_type": "markdown",
      "source": [
        "Question 5\n",
        "\n",
        "Train a logistic regression on the data set with lambda = 0.1, 0.2, 0.3, 0.4, 0.5, 0.6, 0.7, 0.8, and\n",
        "0.9, using L2, L1, and Elastic net regularizations on the training and validation set (you should\n",
        "not use your test set for model tuning). For elastic net, use an L1 ratio of 0.5. Determine the best\n",
        "lambda(s) and justify your decision (you can use sklearn for these models) (10 pts).\n",
        " "
      ],
      "metadata": {
        "id": "Z80YHmWPCAtW"
      }
    },
    {
      "cell_type": "code",
      "source": [
        "from sklearn.linear_model import Ridge\n",
        "from sklearn.linear_model import Lasso\n",
        "from sklearn.linear_model import ElasticNet\n",
        "from sklearn import metrics\n",
        "from sklearn.linear_model import LogisticRegression\n",
        "from sklearn.metrics import classification_report\n",
        "from sklearn.metrics import log_loss\n",
        "from sklearn.metrics import f1_score"
      ],
      "metadata": {
        "id": "mP23RmCV0aF6"
      },
      "execution_count": 58,
      "outputs": []
    },
    {
      "cell_type": "code",
      "source": [
        "Xtrain_values = train_data.iloc[:,:-1].to_numpy()\n",
        "ytrain_values = train_data.iloc[:,-1].to_numpy()\n",
        "Xval_values = validation_data.iloc[:,:-1].to_numpy()\n",
        "yval_values = validation_data.iloc[:,-1].to_numpy()\n",
        "Xtest_values = test_data.iloc[:,:-1].to_numpy()\n",
        "ytest_values = test_data.iloc[:,-1].to_numpy()\n",
        "\n",
        " "
      ],
      "metadata": {
        "id": "xsx-gNxdqNVH"
      },
      "execution_count": 59,
      "outputs": []
    },
    {
      "cell_type": "code",
      "source": [
        "lambdas =[]\n",
        "for i in np.arange(0.1,1,0.1):\n",
        "  i = round(i,2)\n",
        "  lambdas.append(i)\n",
        "lambdas"
      ],
      "metadata": {
        "colab": {
          "base_uri": "https://localhost:8080/"
        },
        "id": "HtJHcDP30so_",
        "outputId": "7d84a59a-eeb4-4ce0-fd2d-77e983fc3736"
      },
      "execution_count": 60,
      "outputs": [
        {
          "output_type": "execute_result",
          "data": {
            "text/plain": [
              "[0.1, 0.2, 0.3, 0.4, 0.5, 0.6, 0.7, 0.8, 0.9]"
            ]
          },
          "metadata": {},
          "execution_count": 60
        }
      ]
    },
    {
      "cell_type": "code",
      "source": [
        "ridge_results = {}\n",
        "lasso_results = {}\n",
        "elastic_results = {}\n",
        "\n",
        "for lambda_val in lambdas:    \n",
        "    # Ridge Regression L2\n",
        "    l2_ridge = LogisticRegression(penalty='l2', C = 1/lambda_val, solver='liblinear', max_iter=10000)\n",
        "    l2_ridge.fit(Xtrain_values, ytrain_values)\n",
        "    pred_y_val = l2_ridge.predict(Xval_values)\n",
        "    score = f1_score(yval_values,pred_y_val)\n",
        "    ridge_results[lambda_val] = score\n",
        "    \n",
        "    # Lasso Regression L1\n",
        "    l1_lasso = LogisticRegression(penalty='l1', C = 1/lambda_val, solver='liblinear', max_iter=1000)\n",
        "    l1_lasso.fit(Xtrain_values, ytrain_values)\n",
        "    pred_y_val = l1_lasso.predict(Xval_values)\n",
        "    score = f1_score(yval_values,pred_y_val)\n",
        "    lasso_results[lambda_val] = score\n",
        "    \n",
        "    # Elastic Net \n",
        "    lr_elastic = LogisticRegression(penalty='elasticnet', C = 1/lambda_val, solver='saga', l1_ratio=0.5, max_iter=1000)\n",
        "    lr_elastic.fit(Xtrain_values, ytrain_values)\n",
        "    pred_y_val = lr_elastic.predict(Xval_values)\n",
        "    score = f1_score(yval_values,pred_y_val)\n",
        "    elastic_results[lambda_val] = score\n",
        "\n",
        "\n",
        "print(ridge_results)\n",
        "print(lasso_results)\n",
        "print(elastic_results)"
      ],
      "metadata": {
        "colab": {
          "base_uri": "https://localhost:8080/"
        },
        "id": "v1iHAEcJ397Z",
        "outputId": "5c38e94a-c8e9-45cc-e5f3-b92c61824684"
      },
      "execution_count": 61,
      "outputs": [
        {
          "output_type": "stream",
          "name": "stderr",
          "text": [
            "/usr/local/lib/python3.7/dist-packages/sklearn/linear_model/_sag.py:354: ConvergenceWarning: The max_iter was reached which means the coef_ did not converge\n",
            "  ConvergenceWarning,\n",
            "/usr/local/lib/python3.7/dist-packages/sklearn/linear_model/_sag.py:354: ConvergenceWarning: The max_iter was reached which means the coef_ did not converge\n",
            "  ConvergenceWarning,\n",
            "/usr/local/lib/python3.7/dist-packages/sklearn/linear_model/_sag.py:354: ConvergenceWarning: The max_iter was reached which means the coef_ did not converge\n",
            "  ConvergenceWarning,\n",
            "/usr/local/lib/python3.7/dist-packages/sklearn/linear_model/_sag.py:354: ConvergenceWarning: The max_iter was reached which means the coef_ did not converge\n",
            "  ConvergenceWarning,\n",
            "/usr/local/lib/python3.7/dist-packages/sklearn/linear_model/_sag.py:354: ConvergenceWarning: The max_iter was reached which means the coef_ did not converge\n",
            "  ConvergenceWarning,\n",
            "/usr/local/lib/python3.7/dist-packages/sklearn/linear_model/_sag.py:354: ConvergenceWarning: The max_iter was reached which means the coef_ did not converge\n",
            "  ConvergenceWarning,\n",
            "/usr/local/lib/python3.7/dist-packages/sklearn/linear_model/_sag.py:354: ConvergenceWarning: The max_iter was reached which means the coef_ did not converge\n",
            "  ConvergenceWarning,\n",
            "/usr/local/lib/python3.7/dist-packages/sklearn/linear_model/_sag.py:354: ConvergenceWarning: The max_iter was reached which means the coef_ did not converge\n",
            "  ConvergenceWarning,\n"
          ]
        },
        {
          "output_type": "stream",
          "name": "stdout",
          "text": [
            "{0.1: 0.56, 0.2: 0.594059405940594, 0.3: 0.594059405940594, 0.4: 0.6138613861386139, 0.5: 0.62, 0.6: 0.6262626262626263, 0.7: 0.6262626262626263, 0.8: 0.6185567010309277, 0.9: 0.6185567010309277}\n",
            "{0.1: 0.56, 0.2: 0.56, 0.3: 0.56, 0.4: 0.56, 0.5: 0.56, 0.6: 0.56, 0.7: 0.56, 0.8: 0.5656565656565655, 0.9: 0.5656565656565655}\n",
            "{0.1: 0.3736263736263736, 0.2: 0.3736263736263736, 0.3: 0.3736263736263736, 0.4: 0.3736263736263736, 0.5: 0.3736263736263736, 0.6: 0.3736263736263736, 0.7: 0.37777777777777777, 0.8: 0.37777777777777777, 0.9: 0.37777777777777777}\n"
          ]
        },
        {
          "output_type": "stream",
          "name": "stderr",
          "text": [
            "/usr/local/lib/python3.7/dist-packages/sklearn/linear_model/_sag.py:354: ConvergenceWarning: The max_iter was reached which means the coef_ did not converge\n",
            "  ConvergenceWarning,\n"
          ]
        }
      ]
    },
    {
      "cell_type": "code",
      "source": [
        "ridge_best_lambda = max(ridge_results, key=ridge_results.get)\n",
        "lasso_best_lambda = max(lasso_results, key=lasso_results.get)\n",
        "elastic_best_lambda = max(elastic_results, key=elastic_results.get)\n",
        "\n",
        "print(f'Best lambda for L2 ridge classifier is {ridge_best_lambda}')\n",
        "print(f'Best lambda for L1 lasso classifier is {lasso_best_lambda}')\n",
        "print(f'Best lambda for elastic net classifier is {elastic_best_lambda}')"
      ],
      "metadata": {
        "colab": {
          "base_uri": "https://localhost:8080/"
        },
        "id": "DrlkkKmW7Mwa",
        "outputId": "7b1a0879-aabb-43df-d859-8be6b95210df"
      },
      "execution_count": 62,
      "outputs": [
        {
          "output_type": "stream",
          "name": "stdout",
          "text": [
            "Best lambda for L2 ridge classifier is 0.6\n",
            "Best lambda for L1 lasso classifier is 0.8\n",
            "Best lambda for elastic net classifier is 0.7\n"
          ]
        }
      ]
    },
    {
      "cell_type": "markdown",
      "source": [
        "Question 6\n",
        "\n",
        "Examine the coefficients for the optimal lambdas for L1, L2, and elastic net models and explain\n",
        "the results. Explain the change in the coefficients as you increase and decrease regularization λ\n",
        "(be sure to check very high and low λ, e.g. λ > 100 and λ < 10−20) (10 pts)."
      ],
      "metadata": {
        "id": "38qoGt_qMBl6"
      }
    },
    {
      "cell_type": "code",
      "source": [
        "ridge_model = LogisticRegression(penalty='l2', C = 1/10000, solver='liblinear')\n",
        "ridge_model.fit(Xtrain_values, ytrain_values)\n",
        "print('ridge coef', ridge_model.coef_)\n",
        "# pred_y_train = \n",
        "\n",
        "lasso_model = LogisticRegression(penalty='l1', C = 1/100000, solver='liblinear')\n",
        "lasso_model.fit(Xtrain_values, ytrain_values)\n",
        "print('lasso coef', lasso_model.coef_)\n",
        "\n",
        "elastic_model = LogisticRegression(penalty='elasticnet', C = 1/10000, solver='saga', l1_ratio=0.5)\n",
        "elastic_model.fit(Xtrain_values, ytrain_values)\n",
        "print('elastic coef', elastic_model.coef_)"
      ],
      "metadata": {
        "colab": {
          "base_uri": "https://localhost:8080/"
        },
        "id": "D1e28BpYCr7j",
        "outputId": "fa812652-3655-48c7-bea5-dc7f4f84e31e"
      },
      "execution_count": 63,
      "outputs": [
        {
          "output_type": "stream",
          "name": "stdout",
          "text": [
            "ridge coef [[ 0.0077908   0.009367   -0.02354435 -0.0040999   0.00032082 -0.00483444\n",
            "   0.00036448  0.00393227]]\n",
            "lasso coef [[0. 0. 0. 0. 0. 0. 0. 0.]]\n",
            "elastic coef [[ 0.        -0.0006479  0.         0.         0.         0.\n",
            "   0.         0.       ]]\n"
          ]
        },
        {
          "output_type": "stream",
          "name": "stderr",
          "text": [
            "/usr/local/lib/python3.7/dist-packages/sklearn/linear_model/_sag.py:354: ConvergenceWarning: The max_iter was reached which means the coef_ did not converge\n",
            "  ConvergenceWarning,\n"
          ]
        }
      ]
    },
    {
      "cell_type": "code",
      "source": [
        "ridge_model = LogisticRegression(penalty='l2', C = 1/ridge_best_lambda, solver='liblinear')\n",
        "ridge_model.fit(Xtrain_values, ytrain_values)\n",
        "print('ridge coef', ridge_model.coef_)\n",
        "\n",
        "lasso_model = LogisticRegression(penalty='l1', C = 1/lasso_best_lambda, solver='liblinear')\n",
        "lasso_model.fit(Xtrain_values, ytrain_values)\n",
        "print('lasso coef', lasso_model.coef_)\n",
        "\n",
        "elastic_model = LogisticRegression(penalty='elasticnet', C = 1/elastic_best_lambda, solver='saga', l1_ratio=0.5)\n",
        "elastic_model.fit(Xtrain_values, ytrain_values)\n",
        "print('elastic coef', elastic_model.coef_)"
      ],
      "metadata": {
        "colab": {
          "base_uri": "https://localhost:8080/"
        },
        "id": "qUqvhCEv7ZGg",
        "outputId": "d6de5891-1769-4042-9c15-233f0f355740"
      },
      "execution_count": 64,
      "outputs": [
        {
          "output_type": "stream",
          "name": "stdout",
          "text": [
            "ridge coef [[ 0.08399631  0.02480983 -0.01408092 -0.00247535 -0.00100761  0.05909951\n",
            "   0.64310752  0.01695671]]\n",
            "lasso coef [[ 0.07887182  0.02924176 -0.00966028 -0.00191246 -0.00139358  0.08236606\n",
            "   0.70007183  0.02395011]]\n",
            "elastic coef [[ 0.02009706  0.01211662 -0.03115796 -0.00334448  0.00020139 -0.00545476\n",
            "   0.00093293  0.00828881]]\n"
          ]
        },
        {
          "output_type": "stream",
          "name": "stderr",
          "text": [
            "/usr/local/lib/python3.7/dist-packages/sklearn/linear_model/_sag.py:354: ConvergenceWarning: The max_iter was reached which means the coef_ did not converge\n",
            "  ConvergenceWarning,\n"
          ]
        }
      ]
    },
    {
      "cell_type": "markdown",
      "source": [
        "I noticed that when lambda increases, the coefficients approach 0. For instance when I set lambda to be 100000, the coefficients become 0. The value of C in the Logistic Regression parameter is 1/lambda. So as lambda increases, C approaches 0 and the coefficients approach 0 too."
      ],
      "metadata": {
        "id": "89wqP7_CDC9d"
      }
    },
    {
      "cell_type": "markdown",
      "source": [
        "Question 7\n",
        "\n",
        "Present and describe the results from the best performing logistic regression model, including\n",
        "a confusion matrix, accuracy, and F1 score on the test set (10 pts).\n"
      ],
      "metadata": {
        "id": "FAbgj-vyic7d"
      }
    },
    {
      "cell_type": "code",
      "source": [
        "from sklearn.metrics import confusion_matrix, accuracy_score, f1_score\n",
        "\n",
        "pred_y_test = ridge_model.predict(Xtest_values)\n",
        "print('confusion matrix ridge \\n', confusion_matrix(pred_y_test, ytest_values))\n",
        "print('accuracy score ridge', accuracy_score(pred_y_test, ytest_values))\n",
        "print('f1 score ridge', f1_score(pred_y_test, ytest_values))\n",
        "\n",
        "pred_y_test = lasso_model.predict(Xtest_values)\n",
        "print('confusion matrix lasso \\n', confusion_matrix(pred_y_test, ytest_values))\n",
        "print('accuracy score lasso', accuracy_score(pred_y_test, ytest_values))\n",
        "print('f1 score lasso', f1_score(pred_y_test, ytest_values))\n",
        "\n",
        "pred_y_test = elastic_model.predict(Xtest_values)\n",
        "print('confusion matrix elastic \\n', confusion_matrix(pred_y_test, ytest_values))\n",
        "print('accuracy score elastic', accuracy_score(pred_y_test, ytest_values))\n",
        "print('f1 score elastic', f1_score(pred_y_test, ytest_values))"
      ],
      "metadata": {
        "colab": {
          "base_uri": "https://localhost:8080/"
        },
        "id": "G5TWG3gnitVk",
        "outputId": "6514e94b-d962-4a2a-f9f7-563a4cf3a4ce"
      },
      "execution_count": 65,
      "outputs": [
        {
          "output_type": "stream",
          "name": "stdout",
          "text": [
            "confusion matrix ridge \n",
            " [[98 24]\n",
            " [ 3 29]]\n",
            "accuracy score ridge 0.8246753246753247\n",
            "f1 score ridge 0.6823529411764705\n",
            "confusion matrix lasso \n",
            " [[98 23]\n",
            " [ 3 30]]\n",
            "accuracy score lasso 0.8311688311688312\n",
            "f1 score lasso 0.6976744186046512\n",
            "confusion matrix elastic \n",
            " [[91 44]\n",
            " [10  9]]\n",
            "accuracy score elastic 0.6493506493506493\n",
            "f1 score elastic 0.24999999999999994\n"
          ]
        }
      ]
    },
    {
      "cell_type": "markdown",
      "source": [
        "As shown above, the best model is lasso since it has the highest accuracy score and f1 score compared to ridge and elastic net."
      ],
      "metadata": {
        "id": "6yfpq1CnCMme"
      }
    },
    {
      "cell_type": "code",
      "source": [
        "\n",
        "\n",
        "clf = LogisticRegression(random_state=0).fit(Xtrain_values, ytrain_values)\n",
        "ypred = clf.predict(Xtest_values)"
      ],
      "metadata": {
        "colab": {
          "base_uri": "https://localhost:8080/"
        },
        "id": "HR_AMO6X2LLa",
        "outputId": "cc60f64c-ac88-4b55-f7f9-4d799574a154"
      },
      "execution_count": 66,
      "outputs": [
        {
          "output_type": "stream",
          "name": "stderr",
          "text": [
            "/usr/local/lib/python3.7/dist-packages/sklearn/linear_model/_logistic.py:818: ConvergenceWarning: lbfgs failed to converge (status=1):\n",
            "STOP: TOTAL NO. of ITERATIONS REACHED LIMIT.\n",
            "\n",
            "Increase the number of iterations (max_iter) or scale the data as shown in:\n",
            "    https://scikit-learn.org/stable/modules/preprocessing.html\n",
            "Please also refer to the documentation for alternative solver options:\n",
            "    https://scikit-learn.org/stable/modules/linear_model.html#logistic-regression\n",
            "  extra_warning_msg=_LOGISTIC_SOLVER_CONVERGENCE_MSG,\n"
          ]
        }
      ]
    },
    {
      "cell_type": "code",
      "source": [
        "\n",
        "clf = LogisticRegression(random_state=0).fit(Xtrain_values, ytrain_values)\n"
      ],
      "metadata": {
        "colab": {
          "base_uri": "https://localhost:8080/"
        },
        "id": "o6xaB7C2gyMg",
        "outputId": "7ea508c5-f1cc-4359-beeb-38fc05b02c80"
      },
      "execution_count": 67,
      "outputs": [
        {
          "output_type": "stream",
          "name": "stderr",
          "text": [
            "/usr/local/lib/python3.7/dist-packages/sklearn/linear_model/_logistic.py:818: ConvergenceWarning: lbfgs failed to converge (status=1):\n",
            "STOP: TOTAL NO. of ITERATIONS REACHED LIMIT.\n",
            "\n",
            "Increase the number of iterations (max_iter) or scale the data as shown in:\n",
            "    https://scikit-learn.org/stable/modules/preprocessing.html\n",
            "Please also refer to the documentation for alternative solver options:\n",
            "    https://scikit-learn.org/stable/modules/linear_model.html#logistic-regression\n",
            "  extra_warning_msg=_LOGISTIC_SOLVER_CONVERGENCE_MSG,\n"
          ]
        }
      ]
    },
    {
      "cell_type": "code",
      "source": [
        "metrics.ConfusionMatrixDisplay.from_estimator(clf, Xtest_values, ytest_values) "
      ],
      "metadata": {
        "colab": {
          "base_uri": "https://localhost:8080/",
          "height": 296
        },
        "id": "fb8oWG4wvuRL",
        "outputId": "12eb505d-88df-4b21-ce78-027aaacdcd35"
      },
      "execution_count": 68,
      "outputs": [
        {
          "output_type": "execute_result",
          "data": {
            "text/plain": [
              "<sklearn.metrics._plot.confusion_matrix.ConfusionMatrixDisplay at 0x7f04241fe690>"
            ]
          },
          "metadata": {},
          "execution_count": 68
        },
        {
          "output_type": "display_data",
          "data": {
            "text/plain": [
              "<Figure size 432x288 with 2 Axes>"
            ],
            "image/png": "[encoded data removed]"
          },
          "metadata": {
            "needs_background": "light"
          }
        }
      ]
    },
    {
      "cell_type": "markdown",
      "source": [
        "Question 8 \n",
        "\n",
        "Use a Naïve Bayes model to classify the locations below as either New Hampshire or Vermont\n",
        "from the 5 training examples, with and without Laplacian smoothing (please note, some states\n",
        "have towns that have the same name). You must show the probability of the towns in the test set\n",
        "with respect to each class for full credit. Please follow the method presented in class and show\n",
        "your steps. You CANNOT use sklearn for this task (20 pts)."
      ],
      "metadata": {
        "id": "r52xoHk1ZSiM"
      }
    },
    {
      "cell_type": "code",
      "source": [
        "table = pd.DataFrame({'Dataset': ['Train', 'Train', 'Train', 'Train', 'Train', 'Test'],\n",
        "              'Towns': ['Burlington, Rutland, Springfield',\n",
        "                        'Springfield, Lebanon, Hanover',\n",
        "                        'White River Junction, Hartford, Shelburne',\n",
        "                        'Concord, Nashua, Lyme', \n",
        "                        'Shelburne, Claremont, Springfield',\n",
        "                        'Springfield, Shelburne, Manchester'],\n",
        "              'State': ['Vermont', \n",
        "                        'New Hampshire', \n",
        "                        'Vermont', \n",
        "                        'New Hampshire', \n",
        "                        'New Hampshire', \n",
        "                        '?']})\n",
        "table"
      ],
      "metadata": {
        "colab": {
          "base_uri": "https://localhost:8080/",
          "height": 238
        },
        "id": "PB3rZZN7AbXi",
        "outputId": "37264c53-6ea1-4005-a7bb-cb8700252ea7"
      },
      "execution_count": 69,
      "outputs": [
        {
          "output_type": "execute_result",
          "data": {
            "text/plain": [
              "  Dataset                                      Towns          State\n",
              "0   Train           Burlington, Rutland, Springfield        Vermont\n",
              "1   Train              Springfield, Lebanon, Hanover  New Hampshire\n",
              "2   Train  White River Junction, Hartford, Shelburne        Vermont\n",
              "3   Train                      Concord, Nashua, Lyme  New Hampshire\n",
              "4   Train          Shelburne, Claremont, Springfield  New Hampshire\n",
              "5    Test         Springfield, Shelburne, Manchester              ?"
            ],
            "text/html": [
              "\n",
              "  <div id=\"df-f1d10134-4070-4121-bb0d-a13e84ded155\">\n",
              "    <div class=\"colab-df-container\">\n",
              "      <div>\n",
              "<style scoped>\n",
              "    .dataframe tbody tr th:only-of-type {\n",
              "        vertical-align: middle;\n",
              "    }\n",
              "\n",
              "    .dataframe tbody tr th {\n",
              "        vertical-align: top;\n",
              "    }\n",
              "\n",
              "    .dataframe thead th {\n",
              "        text-align: right;\n",
              "    }\n",
              "</style>\n",
              "<table border=\"1\" class=\"dataframe\">\n",
              "  <thead>\n",
              "    <tr style=\"text-align: right;\">\n",
              "      <th></th>\n",
              "      <th>Dataset</th>\n",
              "      <th>Towns</th>\n",
              "      <th>State</th>\n",
              "    </tr>\n",
              "  </thead>\n",
              "  <tbody>\n",
              "    <tr>\n",
              "      <th>0</th>\n",
              "      <td>Train</td>\n",
              "      <td>Burlington, Rutland, Springfield</td>\n",
              "      <td>Vermont</td>\n",
              "    </tr>\n",
              "    <tr>\n",
              "      <th>1</th>\n",
              "      <td>Train</td>\n",
              "      <td>Springfield, Lebanon, Hanover</td>\n",
              "      <td>New Hampshire</td>\n",
              "    </tr>\n",
              "    <tr>\n",
              "      <th>2</th>\n",
              "      <td>Train</td>\n",
              "      <td>White River Junction, Hartford, Shelburne</td>\n",
              "      <td>Vermont</td>\n",
              "    </tr>\n",
              "    <tr>\n",
              "      <th>3</th>\n",
              "      <td>Train</td>\n",
              "      <td>Concord, Nashua, Lyme</td>\n",
              "      <td>New Hampshire</td>\n",
              "    </tr>\n",
              "    <tr>\n",
              "      <th>4</th>\n",
              "      <td>Train</td>\n",
              "      <td>Shelburne, Claremont, Springfield</td>\n",
              "      <td>New Hampshire</td>\n",
              "    </tr>\n",
              "    <tr>\n",
              "      <th>5</th>\n",
              "      <td>Test</td>\n",
              "      <td>Springfield, Shelburne, Manchester</td>\n",
              "      <td>?</td>\n",
              "    </tr>\n",
              "  </tbody>\n",
              "</table>\n",
              "</div>\n",
              "      <button class=\"colab-df-convert\" onclick=\"convertToInteractive('df-f1d10134-4070-4121-bb0d-a13e84ded155')\"\n",
              "              title=\"Convert this dataframe to an interactive table.\"\n",
              "              style=\"display:none;\">\n",
              "        \n",
              "  <svg xmlns=\"http://www.w3.org/2000/svg\" height=\"24px\"viewBox=\"0 0 24 24\"\n",
              "       width=\"24px\">\n",
              "    <path d=\"M0 0h24v24H0V0z\" fill=\"none\"/>\n",
              "    <path d=\"M18.56 5.44l.94 2.06.94-2.06 2.06-.94-2.06-.94-.94-2.06-.94 2.06-2.06.94zm-11 1L8.5 8.5l.94-2.06 2.06-.94-2.06-.94L8.5 2.5l-.94 2.06-2.06.94zm10 10l.94 2.06.94-2.06 2.06-.94-2.06-.94-.94-2.06-.94 2.06-2.06.94z\"/><path d=\"M17.41 7.96l-1.37-1.37c-.4-.4-.92-.59-1.43-.59-.52 0-1.04.2-1.43.59L10.3 9.45l-7.72 7.72c-.78.78-.78 2.05 0 2.83L4 21.41c.39.39.9.59 1.41.59.51 0 1.02-.2 1.41-.59l7.78-7.78 2.81-2.81c.8-.78.8-2.07 0-2.86zM5.41 20L4 18.59l7.72-7.72 1.47 1.35L5.41 20z\"/>\n",
              "  </svg>\n",
              "      </button>\n",
              "      \n",
              "  <style>\n",
              "    .colab-df-container {\n",
              "      display:flex;\n",
              "      flex-wrap:wrap;\n",
              "      gap: 12px;\n",
              "    }\n",
              "\n",
              "    .colab-df-convert {\n",
              "      background-color: #E8F0FE;\n",
              "      border: none;\n",
              "      border-radius: 50%;\n",
              "      cursor: pointer;\n",
              "      display: none;\n",
              "      fill: #1967D2;\n",
              "      height: 32px;\n",
              "      padding: 0 0 0 0;\n",
              "      width: 32px;\n",
              "    }\n",
              "\n",
              "    .colab-df-convert:hover {\n",
              "      background-color: #E2EBFA;\n",
              "      box-shadow: 0px 1px 2px rgba(60, 64, 67, 0.3), 0px 1px 3px 1px rgba(60, 64, 67, 0.15);\n",
              "      fill: #174EA6;\n",
              "    }\n",
              "\n",
              "    [theme=dark] .colab-df-convert {\n",
              "      background-color: #3B4455;\n",
              "      fill: #D2E3FC;\n",
              "    }\n",
              "\n",
              "    [theme=dark] .colab-df-convert:hover {\n",
              "      background-color: #434B5C;\n",
              "      box-shadow: 0px 1px 3px 1px rgba(0, 0, 0, 0.15);\n",
              "      filter: drop-shadow(0px 1px 2px rgba(0, 0, 0, 0.3));\n",
              "      fill: #FFFFFF;\n",
              "    }\n",
              "  </style>\n",
              "\n",
              "      <script>\n",
              "        const buttonEl =\n",
              "          document.querySelector('#df-f1d10134-4070-4121-bb0d-a13e84ded155 button.colab-df-convert');\n",
              "        buttonEl.style.display =\n",
              "          google.colab.kernel.accessAllowed ? 'block' : 'none';\n",
              "\n",
              "        async function convertToInteractive(key) {\n",
              "          const element = document.querySelector('#df-f1d10134-4070-4121-bb0d-a13e84ded155');\n",
              "          const dataTable =\n",
              "            await google.colab.kernel.invokeFunction('convertToInteractive',\n",
              "                                                     [key], {});\n",
              "          if (!dataTable) return;\n",
              "\n",
              "          const docLinkHtml = 'Like what you see? Visit the ' +\n",
              "            '<a target=\"_blank\" href=https://colab.research.google.com/notebooks/data_table.ipynb>data table notebook</a>'\n",
              "            + ' to learn more about interactive tables.';\n",
              "          element.innerHTML = '';\n",
              "          dataTable['output_type'] = 'display_data';\n",
              "          await google.colab.output.renderOutput(dataTable, element);\n",
              "          const docLink = document.createElement('div');\n",
              "          docLink.innerHTML = docLinkHtml;\n",
              "          element.appendChild(docLink);\n",
              "        }\n",
              "      </script>\n",
              "    </div>\n",
              "  </div>\n",
              "  "
            ]
          },
          "metadata": {},
          "execution_count": 69
        }
      ]
    },
    {
      "cell_type": "markdown",
      "source": [
        "Laplace Smoothing Steps"
      ],
      "metadata": {
        "id": "UB3IlZ0PKn7L"
      }
    },
    {
      "cell_type": "code",
      "source": [
        "# Step 1 Probability of the classes\n",
        "\n",
        "prob_VT = 0.4\n",
        "prob_NH = 0.6\n",
        "\n",
        "# Step 2:  Probabilty of each town the the classes with respect to each class\n",
        "\n",
        "# N(Springfield, Vermont) + 1 / N(Springfield,Vermont) + 1 + N(Rutland, Vermont) + 1 + N(Burlington, Vermont) + 1 + N(White River, Vermont) + 1 \n",
        "# + N(Shelburne,Vermont) + 1 + N(Hartford,Vermont) + 1 = 0.16666\n",
        "prob_spring_VT = 0.16666 \n",
        "\n",
        "# N(Manchester, Vermont) + 1 / N(Springfield,Vermont) + 1 + N(Rutland, Vermont) + 1 + N(Burlington, Vermont) + 1 + N(White River, Vermont) + 1 \n",
        "# + N(Shelburne,Vermont) + 1 + N(Hartford,Vermont) + 1 = 0.0833\n",
        "prob_manch_VT = 0.0833\n",
        "\n",
        "# N(Shelburne, Vermont) + 1 / N(Springfield,Vermont) + 1 + N(Rutland, Vermont) + 1 + N(Burlington, Vermont) + 1 + N(White River, Vermont) + 1 \n",
        "# + N(Shelburne,Vermont) + 1 + N(Hartford,Vermont) + 1 = 0.1666\n",
        "prob_shel_VT = 0.1666\n",
        "\n",
        "# N(Springfield, New Hampshire) + 1 / N(Springfield, New Hampshire) + 1 + N(Lebanon, New Hampshire) + 1 + N(Hanover, New Hampshire) + 1 \n",
        "# + N(Concord, New Hampshire) + 1 + N(Nashua, New Hampshire) + 1 + N(Lyme, New Hampshire) + 1  + N(Shelburne,New Hampshire) + 1 \n",
        "# + N(Claremont,New Hampshire) + 1 =  3 / 17 = 0.176\n",
        "prob_spring_NH = 0.176\n",
        "\n",
        "# N(Manchester, New Hampshire) + 1 / N(Springfield, New Hampshire) + 1 + N(Lebanon, New Hampshire) + 1 + N(Hanover, New Hampshire) + 1 \n",
        "# + N(Concord, New Hampshire) + 1 + N(Nashua, New Hampshire) + 1 + N(Lyme, New Hampshire) + 1  + N(Shelburne,New Hampshire) + 1 \n",
        "# + N(Claremont,New Hampshire) + 1 = 1/17\n",
        "prob_manch_NH = 0.058\n",
        "\n",
        "# N(Shelburne, New Hampshire) + 1 / N(Springfield, New Hampshire) + 1 + N(Lebanon, New Hampshire) + 1 + N(Hanover, New Hampshire) + 1 \n",
        "# + N(Concord, New Hampshire) + 1 + N(Nashua, New Hampshire) + 1 + N(Lyme, New Hampshire) + 1  + N(Shelburne,New Hampshire) + 1 \n",
        "# + N(Claremont,New Hampshire) + 1 = 2/17\n",
        "\n",
        "prob_shel_NH = 0.1176\n",
        "\n",
        "# Step 3 Computing Prior Probabilities\n",
        "\n",
        "prob_c6_given_NH = prob_spring_NH * prob_manch_NH * prob_shel_NH\n",
        "print(\"Probability of c6 given New Hampshire is\", prob_c6_given_NH)\n",
        "prob_c6_given_VT = prob_spring_VT * prob_manch_VT * prob_shel_VT\n",
        "print(\"Probability of c6 given New Vermont is\", prob_c6_given_VT)\n",
        "\n",
        "# STep 4 Computing Posterior Probability\n",
        "\n",
        "p_NH_given_c6 = prob_c6_given_NH * prob_NH\n",
        "p_VT_given_c6 = prob_c6_given_VT * prob_VT\n",
        "\n",
        "print(\"Probability of New Hampshire given c6 is\", p_NH_given_c6)\n",
        "print(\"Probability of Vermont given c6 is\", p_VT_given_c6)\n",
        "\n",
        "pred_state = p_NH_given_c6 / p_VT_given_c6 \n",
        "print(pred_state)\n",
        "\n",
        "#p_NH_given_c6 / p_VT_given_c6 < 1 so it is classified as Vermont"
      ],
      "metadata": {
        "colab": {
          "base_uri": "https://localhost:8080/"
        },
        "id": "4LzEize_ZUoQ",
        "outputId": "12e261ee-5404-45ef-a415-e30d5d2b1af1"
      },
      "execution_count": 70,
      "outputs": [
        {
          "output_type": "stream",
          "name": "stdout",
          "text": [
            "Probability of c6 given New Hampshire is 0.0012004608\n",
            "Probability of c6 given New Vermont is 0.0023128708148\n",
            "Probability of New Hampshire given c6 is 0.00072027648\n",
            "Probability of Vermont given c6 is 0.00092514832592\n",
            "0.7785524329666076\n"
          ]
        }
      ]
    },
    {
      "cell_type": "markdown",
      "source": [
        "p_NH_given_c6 / p_VT_given_c6 < 1 so it is classified as Vermont "
      ],
      "metadata": {
        "id": "zugNt06xZaqJ"
      }
    },
    {
      "cell_type": "markdown",
      "source": [
        "Without Laplace Smoothing"
      ],
      "metadata": {
        "id": "yasdcumaMqlC"
      }
    },
    {
      "cell_type": "markdown",
      "source": [
        "N(Springfield, Vermont)/ N(Springfield,Vermont)+ N(Rutland, Vermont) + N(Burlington, Vermont) + N(White River, Vermont) + N(Shelburne,Vermont) + N(Hartford,Vermont) = 0.16666\n",
        "\n",
        "P(Springfield | Vermont) = 0.16666 \n",
        "\n",
        "N(Manchester, Vermont)  / N(Springfield,Vermont)  + N(Rutland, Vermont) + N(Burlington, Vermont) + N(White River, Vermont)\n",
        "+ N(Shelburne,Vermont) + N(Hartford,Vermont) = 0.0833\n",
        "\n",
        "P(Manchester | Vermont) = 0\n"
      ],
      "metadata": {
        "id": "n_NZiG33M1It"
      }
    },
    {
      "cell_type": "markdown",
      "source": [
        "Because Manchester isn't in the training dataset, Without Laplace smoothing is not possible to calculate as the posterior and prior probabilites will all end up being 0"
      ],
      "metadata": {
        "id": "Xio3cyHaOGkP"
      }
    }
  ]
}